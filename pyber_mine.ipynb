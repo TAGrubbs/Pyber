{
 "cells": [
  {
   "cell_type": "code",
   "execution_count": null,
   "metadata": {},
   "outputs": [],
   "source": [
    "%matplotlib inline\n",
    "# Dependencies and Setup\n",
    "import matplotlib.pyplot as plt\n",
    "import pandas as pd\n",
    "import numpy as np\n",
    "\n",
    "# File to Load (Remember to change these)\n",
    "city_data_to_load = \"data/city_data.csv\"\n",
    "ride_data_to_load = \"data/ride_data.csv\"\n",
    "\n",
    "# Read the City and Ride Data\n",
    "city_df = pd.read_csv(city_data_to_load)\n",
    "ride_df = pd.read_csv(ride_data_to_load)\n",
    "# Combine the data into a single dataset\n",
    "merge_table = pd.merge(city_df, ride_df, on=\"city\", how=\"left\")\n",
    "# Display the data table for preview\n",
    "merge_table.head()"
   ]
  },
  {
   "cell_type": "markdown",
   "metadata": {},
   "source": [
    "## Bubble Plot of Ride Sharing Data"
   ]
  },
  {
   "cell_type": "code",
   "execution_count": null,
   "metadata": {},
   "outputs": [],
   "source": [
    "# Obtain the x and y coordinates for each of the three city types\n",
    "urban_df = merge_table.loc[merge_table['type'] == 'Urban']\n",
    "suburban_df = merge_table.loc[merge_table['type'] == 'Suburban']\n",
    "rural_df = merge_table.loc[merge_table['type'] == 'Rural']\n",
    "\n",
    "\n",
    "x_urban = urban_df.groupby([\"city\"]).ride_id.count()\n",
    "x_suburban = suburban_df.groupby([\"city\"]).ride_id.count()\n",
    "x_rural = rural_df.groupby([\"city\"]).ride_id.count()\n",
    "\n",
    "y_urban = urban_df.groupby([\"city\"]).fare.mean()\n",
    "y_suburban = suburban_df.groupby([\"city\"]).fare.mean()\n",
    "y_rural = rural_df.groupby([\"city\"]).fare.mean()\n",
    "\n",
    "s_urban = urban_df.groupby([\"city\"]).driver_count.mean()\n",
    "s_suburban = suburban_df.groupby([\"city\"]).driver_count.mean()\n",
    "s_rural = rural_df.groupby([\"city\"]).driver_count.mean()\n",
    "#Build the scatter plots for each city types\n",
    "plt.scatter(x_urban, y_urban, marker=\"o\", facecolors=\"coral\", edgecolors=\"black\", s=s_urban*10, alpha=0.5, label=\"Urban\")\n",
    "plt.scatter(x_suburban, y_suburban, marker=\"o\", facecolors=\"skyblue\", edgecolors=\"black\", s=s_suburban*10, alpha=0.5, label=\"Suburban\")\n",
    "plt.scatter(x_rural, y_rural, marker=\"o\", facecolors=\"gold\", edgecolors=\"black\", s=s_rural*10, alpha=0.5, label=\"Rural\")\n",
    "# Incorporate the other graph properties\n",
    "plt.xlabel ('Total Number of Rides (Per City)')\n",
    "plt.ylabel ('Average Fare ($)')\n",
    "plt.title(\"Pyber Ride Sharing Data (2016)\")\n",
    "plt.grid()\n",
    "# Create a legend\n",
    "plt.legend()\n",
    "# Incorporate a text label regarding circle size\n",
    "plt.text(43, 37, \"Note:\\nCircle Size correlates with driver count per city\")\n",
    "# Save Figure\n",
    "plt.savefig(\"Images/PyberPlot2016.png\")\n",
    "plt.show()"
   ]
  },
  {
   "cell_type": "markdown",
   "metadata": {},
   "source": [
    "## Total Fares by City Type"
   ]
  },
  {
   "cell_type": "code",
   "execution_count": null,
   "metadata": {},
   "outputs": [],
   "source": [
    "# Calculate Type Percents\n",
    "tot_fares= merge_table.fare.sum()\n",
    "urban_fares= urban_df.fare.sum()\n",
    "urban_fares_per = round(urban_fares/tot_fares, 3)*100\n",
    "suburban_fares= suburban_df.fare.sum()\n",
    "suburban_fares_per = round(suburban_fares/tot_fares, 3)*100\n",
    "rural_fares= rural_df.fare.sum()\n",
    "rural_fares_per = round(rural_fares/tot_fares, 3)*100\n",
    "sizes = [urban_fares_per, rural_fares_per, suburban_fares_per]\n",
    "explode = [.1,0,0]\n",
    "labels = [\"Urban\", \"Rural\", \"Suburban\"]\n",
    "colors = [\"coral\", \"gold\", \"skyblue\"]\n",
    "plt.title(\"% of Total Fares by City Type\")\n",
    "# Build Pie Chart\n",
    "plt.pie(sizes, explode=explode, labels=labels, colors=colors, autopct=\"%1.1f%%\", shadow=True, startangle=280)\n",
    "# Save Figure\n",
    "plt.savefig(\"Images/PyberFaresbyCity2016.png\")\n",
    "plt.show()"
   ]
  },
  {
   "cell_type": "markdown",
   "metadata": {},
   "source": [
    "## Total Rides by City Type"
   ]
  },
  {
   "cell_type": "code",
   "execution_count": null,
   "metadata": {},
   "outputs": [],
   "source": [
    "# Calculate Ride Percents\n",
    "tot_rides= len(merge_table)\n",
    "urban_rides= len(urban_df)\n",
    "urban_per = round(urban_rides/tot_rides, 3)*100\n",
    "suburban_rides= len(suburban_df)\n",
    "suburban_per = round(suburban_rides/tot_rides, 3)*100\n",
    "rural_rides= len(rural_df)\n",
    "rural_per = round(rural_rides/tot_rides, 3)*100\n",
    "# Build Pie Chart\n",
    "sizes = [urban_per, rural_per, suburban_per]\n",
    "explode = [.1,0,0]\n",
    "labels = [\"Urban\", \"Rural\", \"Suburban\"]\n",
    "colors = [\"coral\", \"gold\", \"skyblue\"]\n",
    "plt.title(\"% of Total Rides by City Type\")\n",
    "# Save Figure\n",
    "plt.pie(sizes, explode=explode, labels=labels, colors=colors, autopct=\"%1.1f%%\", shadow=True, startangle=280)\n",
    "plt.savefig(\"Images/PyberRidesbyCity2016.png\")\n",
    "plt.show()"
   ]
  },
  {
   "cell_type": "markdown",
   "metadata": {},
   "source": [
    "## Total Drivers by City Type"
   ]
  },
  {
   "cell_type": "code",
   "execution_count": null,
   "metadata": {},
   "outputs": [],
   "source": [
    "# Calculate Driver Percents\n",
    "urban_drivers_by_city=urban_df.groupby([\"city\"]).driver_count.mean()\n",
    "tot_urban_drivers=urban_drivers_by_city.sum()\n",
    "suburban_drivers_by_city=suburban_df.groupby([\"city\"]).driver_count.mean()\n",
    "tot_suburban_drivers=suburban_drivers_by_city.sum()\n",
    "rural_drivers_by_city=rural_df.groupby([\"city\"]).driver_count.mean()\n",
    "tot_rural_drivers=rural_drivers_by_city.sum()\n",
    "tot_drivers= tot_rural_drivers + tot_urban_drivers + tot_suburban_drivers\n",
    "urban_drivers_per = round(tot_urban_drivers/tot_drivers, 3)*100\n",
    "suburban_drivers_per = round(tot_suburban_drivers/tot_drivers, 3)*100\n",
    "rural_drivers_per = round(tot_rural_drivers/tot_drivers, 3)*100\n",
    "sizes = [urban_drivers_per, rural_drivers_per, suburban_drivers_per]\n",
    "explode = [.1,0,0]\n",
    "labels = [\"Urban\", \"Rural\", \"Suburban\"]\n",
    "colors = [\"coral\", \"gold\", \"skyblue\"]\n",
    "plt.title(\"% of Total Drivers by City Type\")\n",
    "# Build Pie Charts\n",
    "plt.pie(sizes, explode=explode, labels=labels, colors=colors, autopct=\"%1.1f%%\", shadow=True, startangle=220)\n",
    "# Save Figure\n",
    "plt.savefig(\"Images/PyberDriversbyCity2016.png\")\n",
    "plt.show()"
   ]
  }
 ],
 "metadata": {
  "anaconda-cloud": {},
  "kernelspec": {
   "display_name": "Python 3",
   "language": "python",
   "name": "python3"
  },
  "language_info": {
   "codemirror_mode": {
    "name": "ipython",
    "version": 3
   },
   "file_extension": ".py",
   "mimetype": "text/x-python",
   "name": "python",
   "nbconvert_exporter": "python",
   "pygments_lexer": "ipython3",
   "version": "3.7.3"
  }
 },
 "nbformat": 4,
 "nbformat_minor": 2
}
